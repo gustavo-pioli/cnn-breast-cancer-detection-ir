{
 "cells": [
  {
   "cell_type": "code",
   "execution_count": 11,
   "metadata": {},
   "outputs": [
    {
     "name": "stdout",
     "output_type": "stream",
     "text": [
      "Total de imagens no diretório Healthy: 540\n",
      "Total de imagens no diretório Sick: 360\n",
      "Total de imagens: 900\n"
     ]
    }
   ],
   "source": [
    "import os\n",
    "\n",
    "def contar_imagens(diretorio, extensoes={'.png', '.jpg', '.jpeg'}):\n",
    "    contador = 0\n",
    "    for root, _, files in os.walk(diretorio):  # Percorre todas as subpastas\n",
    "        contador += sum(1 for file in files if os.path.splitext(file)[1].lower() in extensoes)\n",
    "    return contador\n",
    "\n",
    "# Diretório base\n",
    "h_dir = \"/mnt/d/Documentos Gustavo/TCC/processed_heatmaps3/Healthy\"\n",
    "s_dir = \"/mnt/d/Documentos Gustavo/TCC/processed_heatmaps3/Sick\"\n",
    "# h_dir = \"/mnt/d/Documentos Gustavo/TCC/processed_heatmaps - Copia/Healthy\"\n",
    "# s_dir = \"/mnt/d/Documentos Gustavo/TCC/processed_heatmaps - Copia/Sick\"\n",
    "# h_dir = \"/mnt/d/Documentos Gustavo/TCC/DMR - Database For Mastology Research - Visual Lab, UFF, Niterói, Brazil-003/Healthy\"\n",
    "# s_dir = \"/mnt/d/Documentos Gustavo/TCC/DMR - Database For Mastology Research - Visual Lab, UFF, Niterói, Brazil-003/Sick\"\n",
    "# h_dir = \"/mnt/d/Documentos Gustavo/TCC/processed_heatmaps/Healthy\"\n",
    "# s_dir = \"/mnt/d/Documentos Gustavo/TCC/processed_heatmaps/Sick\"\n",
    "\n",
    "# Contagem total\n",
    "h_imagens = contar_imagens(h_dir)\n",
    "s_imagens = contar_imagens(s_dir)\n",
    "\n",
    "print(f\"Total de imagens no diretório Healthy: {h_imagens}\")\n",
    "print(f\"Total de imagens no diretório Sick: {s_imagens}\")\n",
    "print(f\"Total de imagens: {s_imagens + h_imagens}\")\n"
   ]
  },
  {
   "cell_type": "code",
   "execution_count": 16,
   "metadata": {},
   "outputs": [
    {
     "name": "stdout",
     "output_type": "stream",
     "text": [
      "Total de imagens no diretório b1_imagens: 391\n",
      "Total de imagens no diretório b2_imagens: 375\n",
      "Total de imagens no diretório b3_imagens: 104\n",
      "Total de imagens: 870\n"
     ]
    }
   ],
   "source": [
    "import os\n",
    "\n",
    "def contar_imagens(diretorio_base, extensoes={'.txt'}):\n",
    "    contador = 0\n",
    "    for root, _, files in os.walk(diretorio_base):  \n",
    "        if \"static\" in root and \"dynamic\" not in root:  # Considera apenas a pasta \"static\"\n",
    "            contador += sum(1 for file in files \n",
    "                            if os.path.splitext(file)[1].lower() in extensoes and not file.startswith('L'))\n",
    "    return contador\n",
    "\n",
    "# Diretório base\n",
    "# b1 = \"/mnt/d/Documentos Gustavo/TCC/DMR - Database For Mastology Research - Visual Lab, UFF, Niterói, Brazil/Sick\"\n",
    "# b2 = \"/mnt/d/Documentos Gustavo/TCC/DMR - Database For Mastology Research - Visual Lab, UFF, Niterói, Brazil-002/Sick\"\n",
    "# b3 = \"/mnt/d/Documentos Gustavo/TCC/DMR - Database For Mastology Research - Visual Lab, UFF, Niterói, Brazil-003/Sick\"\n",
    "b1 = \"/mnt/d/Documentos Gustavo/TCC/DMR - Database For Mastology Research - Visual Lab, UFF, Niterói, Brazil/Healthy\"\n",
    "b2 = \"/mnt/d/Documentos Gustavo/TCC/DMR - Database For Mastology Research - Visual Lab, UFF, Niterói, Brazil-002/Healthy\"\n",
    "b3 = \"/mnt/d/Documentos Gustavo/TCC/DMR - Database For Mastology Research - Visual Lab, UFF, Niterói, Brazil-003/Healthy\"\n",
    "# b1 = \"/mnt/d/Documentos Gustavo/TCC/DMR - Database For Mastology Research - Visual Lab, UFF, Niterói, Brazil\"\n",
    "# b2 = \"/mnt/d/Documentos Gustavo/TCC/DMR - Database For Mastology Research - Visual Lab, UFF, Niterói, Brazil-002\"\n",
    "# b3 = \"/mnt/d/Documentos Gustavo/TCC/DMR - Database For Mastology Research - Visual Lab, UFF, Niterói, Brazil-003\"\n",
    "\n",
    "# Contagem total\n",
    "b1_imagens = contar_imagens(b1)\n",
    "b2_imagens = contar_imagens(b2)\n",
    "b3_imagens = contar_imagens(b3)\n",
    "\n",
    "print(f\"Total de imagens no diretório b1_imagens: {b1_imagens}\")\n",
    "print(f\"Total de imagens no diretório b2_imagens: {b2_imagens}\")\n",
    "print(f\"Total de imagens no diretório b3_imagens: {b3_imagens}\")\n",
    "print(f\"Total de imagens: {b3_imagens + b2_imagens + b1_imagens}\")\n"
   ]
  },
  {
   "cell_type": "markdown",
   "metadata": {},
   "source": [
    "Statico Frontal (Imagens)"
   ]
  },
  {
   "cell_type": "code",
   "execution_count": 21,
   "metadata": {},
   "outputs": [
    {
     "name": "stdout",
     "output_type": "stream",
     "text": [
      "Total de imagens no diretório b1_imagens: 33\n",
      "Total de imagens no diretório b2_imagens: 3\n",
      "Total de imagens no diretório b3_imagens: 3\n",
      "Total de imagens: 39\n"
     ]
    }
   ],
   "source": [
    "import os\n",
    "\n",
    "def contar_imagens(diretorio_base, extensoes={'.txt'}):\n",
    "    contador = 0\n",
    "    for root, _, files in os.walk(diretorio_base):  \n",
    "        if \"static\" in root and \"dynamic\" not in root:  # Considera apenas a pasta \"static\"\n",
    "            for file in files:\n",
    "                nome, ext = os.path.splitext(file)\n",
    "                if ext.lower() in extensoes and not file.startswith('L'):\n",
    "                    partes = nome.split('.')\n",
    "                    if len(partes) > 2 and partes[2] == '1':  # Verifica se é imagem frontal\n",
    "                        contador += 1\n",
    "    return contador\n",
    "\n",
    "# Diretórios base\n",
    "b1 = \"/mnt/d/Documentos Gustavo/TCC/DMR - Database For Mastology Research - Visual Lab, UFF, Niterói, Brazil/Sick\"\n",
    "b2 = \"/mnt/d/Documentos Gustavo/TCC/DMR - Database For Mastology Research - Visual Lab, UFF, Niterói, Brazil-002/Sick\"\n",
    "b3 = \"/mnt/d/Documentos Gustavo/TCC/DMR - Database For Mastology Research - Visual Lab, UFF, Niterói, Brazil-003/Sick\"\n",
    "# b1 = \"/mnt/d/Documentos Gustavo/TCC/DMR - Database For Mastology Research - Visual Lab, UFF, Niterói, Brazil/Healthy\"\n",
    "# b2 = \"/mnt/d/Documentos Gustavo/TCC/DMR - Database For Mastology Research - Visual Lab, UFF, Niterói, Brazil-002/Healthy\"\n",
    "# b3 = \"/mnt/d/Documentos Gustavo/TCC/DMR - Database For Mastology Research - Visual Lab, UFF, Niterói, Brazil-003/Healthy\"\n",
    "\n",
    "# Contagem total\n",
    "b1_imagens = contar_imagens(b1)\n",
    "b2_imagens = contar_imagens(b2)\n",
    "b3_imagens = contar_imagens(b3)\n",
    "\n",
    "print(f\"Total de imagens no diretório b1_imagens: {b1_imagens}\")\n",
    "print(f\"Total de imagens no diretório b2_imagens: {b2_imagens}\")\n",
    "print(f\"Total de imagens no diretório b3_imagens: {b3_imagens}\")\n",
    "print(f\"Total de imagens: {b3_imagens + b2_imagens + b1_imagens}\")\n"
   ]
  },
  {
   "cell_type": "markdown",
   "metadata": {},
   "source": [
    "Statico Frontal"
   ]
  },
  {
   "cell_type": "code",
   "execution_count": 20,
   "metadata": {},
   "outputs": [
    {
     "name": "stdout",
     "output_type": "stream",
     "text": [
      "Pacientes com imagens estáticas em b1: 33\n",
      "Pacientes com imagens estáticas em b2: 3\n",
      "Pacientes com imagens estáticas em b3: 3\n",
      "Total de pacientes com imagens estáticas: 39\n"
     ]
    }
   ],
   "source": [
    "import os\n",
    "\n",
    "def paciente_tem_imagem_estatica(paciente_path, extensoes={'.txt'}):\n",
    "    for root, _, files in os.walk(paciente_path):\n",
    "        if \"static\" in root and \"dynamic\" not in root:\n",
    "            for file in files:\n",
    "                nome, ext = os.path.splitext(file)\n",
    "                if ext.lower() in extensoes and not file.startswith('L'):\n",
    "                    partes = nome.split('.')\n",
    "                    if len(partes) > 2 and partes[2] == '1':  # Somente imagens frontais\n",
    "                        return True\n",
    "    return False\n",
    "\n",
    "def contar_pacientes_com_imagens_staticas(diretorio_base):\n",
    "    contador = 0\n",
    "    for nome in os.listdir(diretorio_base):\n",
    "        caminho_paciente = os.path.join(diretorio_base, nome)\n",
    "        if os.path.isdir(caminho_paciente) and nome.lower().startswith('p'):\n",
    "            if paciente_tem_imagem_estatica(caminho_paciente):\n",
    "                contador += 1\n",
    "    return contador\n",
    "\n",
    "\n",
    "b1 = \"/mnt/d/Documentos Gustavo/TCC/DMR - Database For Mastology Research - Visual Lab, UFF, Niterói, Brazil/Sick\"\n",
    "b2 = \"/mnt/d/Documentos Gustavo/TCC/DMR - Database For Mastology Research - Visual Lab, UFF, Niterói, Brazil-002/Sick\"\n",
    "b3 = \"/mnt/d/Documentos Gustavo/TCC/DMR - Database For Mastology Research - Visual Lab, UFF, Niterói, Brazil-003/Sick\"\n",
    "# b1 = \"/mnt/d/Documentos Gustavo/TCC/DMR - Database For Mastology Research - Visual Lab, UFF, Niterói, Brazil/Healthy\"\n",
    "# b2 = \"/mnt/d/Documentos Gustavo/TCC/DMR - Database For Mastology Research - Visual Lab, UFF, Niterói, Brazil-002/Healthy\"\n",
    "# b3 = \"/mnt/d/Documentos Gustavo/TCC/DMR - Database For Mastology Research - Visual Lab, UFF, Niterói, Brazil-003/Healthy\"\n",
    "\n",
    "p1 = contar_pacientes_com_imagens_staticas(b1)\n",
    "p2 = contar_pacientes_com_imagens_staticas(b2)\n",
    "p3 = contar_pacientes_com_imagens_staticas(b3)\n",
    "\n",
    "print(f\"Pacientes com imagens estáticas em b1: {p1}\")\n",
    "print(f\"Pacientes com imagens estáticas em b2: {p2}\")\n",
    "print(f\"Pacientes com imagens estáticas em b3: {p3}\")\n",
    "print(f\"Total de pacientes com imagens estáticas: {p1 + p2 + p3}\")\n",
    "\n"
   ]
  },
  {
   "cell_type": "markdown",
   "metadata": {},
   "source": [
    "Statico e Dinamico Frontal (Imagens)"
   ]
  },
  {
   "cell_type": "code",
   "execution_count": 26,
   "metadata": {},
   "outputs": [
    {
     "name": "stdout",
     "output_type": "stream",
     "text": [
      "Total de imagens no diretório b1_imagens: 1351\n",
      "Total de imagens no diretório b2_imagens: 1462\n",
      "Total de imagens no diretório b3_imagens: 660\n",
      "Total de imagens: 3473\n"
     ]
    }
   ],
   "source": [
    "import os\n",
    "\n",
    "def contar_imagens(diretorio_base, extensoes={'.txt'}):\n",
    "    contador = 0\n",
    "    for root, _, files in os.walk(diretorio_base):  \n",
    "        if \"static\" in root or \"dynamic\" in root:  # Considera apenas a pasta \"static\"\n",
    "            for file in files:\n",
    "                nome, ext = os.path.splitext(file)\n",
    "                if ext.lower() in extensoes and not file.startswith('L'):\n",
    "                    partes = nome.split('.')\n",
    "                    if len(partes) > 2 and partes[2] == '1':  # Verifica se é imagem frontal\n",
    "                        contador += 1\n",
    "    return contador\n",
    "\n",
    "# Diretórios base\n",
    "# b1 = \"/mnt/d/Documentos Gustavo/TCC/DMR - Database For Mastology Research - Visual Lab, UFF, Niterói, Brazil/Sick\"\n",
    "# b2 = \"/mnt/d/Documentos Gustavo/TCC/DMR - Database For Mastology Research - Visual Lab, UFF, Niterói, Brazil-002/Sick\"\n",
    "# b3 = \"/mnt/d/Documentos Gustavo/TCC/DMR - Database For Mastology Research - Visual Lab, UFF, Niterói, Brazil-003/Sick\"\n",
    "b1 = \"/mnt/d/Documentos Gustavo/TCC/DMR - Database For Mastology Research - Visual Lab, UFF, Niterói, Brazil/Healthy\"\n",
    "b2 = \"/mnt/d/Documentos Gustavo/TCC/DMR - Database For Mastology Research - Visual Lab, UFF, Niterói, Brazil-002/Healthy\"\n",
    "b3 = \"/mnt/d/Documentos Gustavo/TCC/DMR - Database For Mastology Research - Visual Lab, UFF, Niterói, Brazil-003/Healthy\"\n",
    "\n",
    "# Contagem total\n",
    "b1_imagens = contar_imagens(b1)\n",
    "b2_imagens = contar_imagens(b2)\n",
    "b3_imagens = contar_imagens(b3)\n",
    "\n",
    "print(f\"Total de imagens no diretório b1_imagens: {b1_imagens}\")\n",
    "print(f\"Total de imagens no diretório b2_imagens: {b2_imagens}\")\n",
    "print(f\"Total de imagens no diretório b3_imagens: {b3_imagens}\")\n",
    "print(f\"Total de imagens: {b3_imagens + b2_imagens + b1_imagens}\")\n"
   ]
  },
  {
   "cell_type": "markdown",
   "metadata": {},
   "source": [
    "Statico e Dinamico Frontal"
   ]
  },
  {
   "cell_type": "code",
   "execution_count": 23,
   "metadata": {},
   "outputs": [
    {
     "name": "stdout",
     "output_type": "stream",
     "text": [
      "Pacientes com imagens estáticas em b1: 175\n",
      "Pacientes com imagens estáticas em b2: 146\n",
      "Pacientes com imagens estáticas em b3: 65\n",
      "Total de pacientes com imagens estáticas: 386\n"
     ]
    }
   ],
   "source": [
    "import os\n",
    "\n",
    "def paciente_tem_imagem_estatica(paciente_path, extensoes={'.txt'}):\n",
    "    for root, _, files in os.walk(paciente_path):\n",
    "        if \"static\" in root or \"dynamic\" in root:\n",
    "            for file in files:\n",
    "                nome, ext = os.path.splitext(file)\n",
    "                if ext.lower() in extensoes and not file.startswith('L'):\n",
    "                    partes = nome.split('.')\n",
    "                    if len(partes) > 2 and partes[2] == '1':  # Somente imagens frontais\n",
    "                        return True\n",
    "    return False\n",
    "\n",
    "def contar_pacientes_com_imagens_staticas(diretorio_base):\n",
    "    contador = 0\n",
    "    for nome in os.listdir(diretorio_base):\n",
    "        caminho_paciente = os.path.join(diretorio_base, nome)\n",
    "        if os.path.isdir(caminho_paciente) and nome.lower().startswith('p'):\n",
    "            if paciente_tem_imagem_estatica(caminho_paciente):\n",
    "                contador += 1\n",
    "    return contador\n",
    "\n",
    "\n",
    "# b1 = \"/mnt/d/Documentos Gustavo/TCC/DMR - Database For Mastology Research - Visual Lab, UFF, Niterói, Brazil/Sick\"\n",
    "# b2 = \"/mnt/d/Documentos Gustavo/TCC/DMR - Database For Mastology Research - Visual Lab, UFF, Niterói, Brazil-002/Sick\"\n",
    "# b3 = \"/mnt/d/Documentos Gustavo/TCC/DMR - Database For Mastology Research - Visual Lab, UFF, Niterói, Brazil-003/Sick\"\n",
    "b1 = \"/mnt/d/Documentos Gustavo/TCC/DMR - Database For Mastology Research - Visual Lab, UFF, Niterói, Brazil/Healthy\"\n",
    "b2 = \"/mnt/d/Documentos Gustavo/TCC/DMR - Database For Mastology Research - Visual Lab, UFF, Niterói, Brazil-002/Healthy\"\n",
    "b3 = \"/mnt/d/Documentos Gustavo/TCC/DMR - Database For Mastology Research - Visual Lab, UFF, Niterói, Brazil-003/Healthy\"\n",
    "\n",
    "p1 = contar_pacientes_com_imagens_staticas(b1)\n",
    "p2 = contar_pacientes_com_imagens_staticas(b2)\n",
    "p3 = contar_pacientes_com_imagens_staticas(b3)\n",
    "\n",
    "print(f\"Pacientes com imagens estáticas em b1: {p1}\")\n",
    "print(f\"Pacientes com imagens estáticas em b2: {p2}\")\n",
    "print(f\"Pacientes com imagens estáticas em b3: {p3}\")\n",
    "print(f\"Total de pacientes com imagens estáticas: {p1 + p2 + p3}\")"
   ]
  },
  {
   "cell_type": "markdown",
   "metadata": {},
   "source": [
    "Processadas Statico e Dinamico Frontal (.jpg)"
   ]
  },
  {
   "cell_type": "code",
   "execution_count": 27,
   "metadata": {},
   "outputs": [
    {
     "name": "stdout",
     "output_type": "stream",
     "text": [
      "Total de imagens no diretório Healthy: 3473\n",
      "Total de imagens no diretório Sick: 3424\n",
      "Total de imagens: 6897\n"
     ]
    }
   ],
   "source": [
    "import os\n",
    "\n",
    "def contar_imagens(diretorio_base, extensoes={'.jpg'}):\n",
    "    contador = 0\n",
    "    for root, _, files in os.walk(diretorio_base):  \n",
    "        # if \"static\" in root or \"dynamic\" in root:  # Considera apenas a pasta \"static\"\n",
    "            for file in files:\n",
    "                # nome, ext = os.path.splitext(file)\n",
    "                # if ext.lower() in extensoes and not file.startswith('L'):\n",
    "                    # partes = nome.split('.')\n",
    "                    # if len(partes) > 2 and partes[2] == '1':  # Verifica se é imagem frontal\n",
    "                        contador += 1\n",
    "    return contador\n",
    "\n",
    "# Diretórios base\n",
    "b1 = \"/mnt/d/Documentos Gustavo/TCC/processed_heatmaps - Copia/Healthy\"\n",
    "b2 = \"/mnt/d/Documentos Gustavo/TCC/processed_heatmaps - Copia/Sick\"\n",
    "\n",
    "# Contagem total\n",
    "b1_imagens = contar_imagens(b1)\n",
    "b2_imagens = contar_imagens(b2)\n",
    "\n",
    "print(f\"Total de imagens no diretório Healthy: {b1_imagens}\")\n",
    "print(f\"Total de imagens no diretório Sick: {b2_imagens}\")\n",
    "print(f\"Total de imagens: {b2_imagens + b1_imagens}\")"
   ]
  },
  {
   "cell_type": "code",
   "execution_count": 6,
   "metadata": {},
   "outputs": [
    {
     "name": "stdout",
     "output_type": "stream",
     "text": [
      "Total de imagens brutas: 1843\n",
      "Total de imagens processadas: 1647\n",
      "Imagens que faltam no diretório processado: 196\n"
     ]
    }
   ],
   "source": [
    "import os\n",
    "\n",
    "def listar_imagens(diretorio, extensoes={'.png', '.jpg', '.jpeg'}):\n",
    "    imagens = []\n",
    "    for root, _, files in os.walk(diretorio):\n",
    "        # if(\"static\" in root): print(root)\n",
    "        if \"dynamic\" not in root:\n",
    "            imagens.extend([os.path.join(root, file) for file in files \n",
    "                            if os.path.splitext(file)[1].lower() in extensoes and not file.startswith('L')])\n",
    "    return imagens\n",
    "\n",
    "# Listar imagens dos diretórios brutos\n",
    "b1_imagens = listar_imagens(b1)\n",
    "b2_imagens = listar_imagens(b2)\n",
    "b3_imagens = listar_imagens(b3)\n",
    "\n",
    "# Listar imagens processadas\n",
    "processed_imagens = listar_imagens(h_dir) + listar_imagens(s_dir)\n",
    "\n",
    "# Comparação\n",
    "total_bruto = len(b1_imagens) + len(b2_imagens) + len(b3_imagens)\n",
    "total_processado = len(processed_imagens)\n",
    "\n",
    "print(f\"Total de imagens brutas: {total_bruto}\")\n",
    "print(f\"Total de imagens processadas: {total_processado}\")\n",
    "\n",
    "# Verificar se há imagens nos brutos que não estão nos processados\n",
    "imagens_brutas_set = set(os.path.basename(img) for img in (b1_imagens + b2_imagens + b3_imagens))\n",
    "imagens_processadas_set = set(os.path.basename(img) for img in processed_imagens)\n",
    "\n",
    "imagens_faltando = imagens_brutas_set - imagens_processadas_set\n",
    "print(f\"Imagens que faltam no diretório processado: {len(imagens_faltando)}\")\n"
   ]
  }
 ],
 "metadata": {
  "kernelspec": {
   "display_name": "Python (my_env)",
   "language": "python",
   "name": "my_env"
  },
  "language_info": {
   "codemirror_mode": {
    "name": "ipython",
    "version": 3
   },
   "file_extension": ".py",
   "mimetype": "text/x-python",
   "name": "python",
   "nbconvert_exporter": "python",
   "pygments_lexer": "ipython3",
   "version": "3.12.3"
  }
 },
 "nbformat": 4,
 "nbformat_minor": 2
}
