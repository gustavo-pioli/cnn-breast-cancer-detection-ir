{
 "cells": [
  {
   "cell_type": "code",
   "execution_count": 2,
   "metadata": {},
   "outputs": [
    {
     "name": "stdout",
     "output_type": "stream",
     "text": [
      "Total de imagens Sick processadas (incluindo flipadas): 776\n"
     ]
    }
   ],
   "source": [
    "import os\n",
    "import numpy as np\n",
    "import matplotlib.pyplot as plt\n",
    "from PIL import Image\n",
    "\n",
    "def salvar_como_mapa_calor_e_flip(img_path, output_dir, paciente, colormap=\"hot\"):\n",
    "    \"\"\"Aplica um colormap na imagem, faz flip horizontal e salva no diretório de saída.\"\"\"\n",
    "    paciente_dir = os.path.join(output_dir, \"Sick\", paciente)\n",
    "    os.makedirs(paciente_dir, exist_ok=True)\n",
    "\n",
    "    # Carregar a imagem e converter para escala de cinza\n",
    "    imagem = Image.open(img_path).convert(\"L\")\n",
    "    imagem_array = np.array(imagem)\n",
    "\n",
    "    # Caminho para salvar a imagem original convertida\n",
    "    output_path = os.path.join(paciente_dir, os.path.basename(img_path))\n",
    "    plt.imsave(output_path, imagem_array, cmap=colormap)\n",
    "\n",
    "    # Aplicar flip horizontal\n",
    "    imagem_flip = imagem.transpose(Image.FLIP_LEFT_RIGHT)\n",
    "    imagem_flip_array = np.array(imagem_flip)\n",
    "\n",
    "    # Criar nome para a imagem flipada adicionando \"F\" antes da extensão\n",
    "    nome_arquivo, ext = os.path.splitext(os.path.basename(img_path))\n",
    "    flipped_output_path = os.path.join(paciente_dir, f\"{nome_arquivo}F{ext}\")\n",
    "\n",
    "    # Salvar a versão flipada com colormap\n",
    "    plt.imsave(flipped_output_path, imagem_flip_array, cmap=colormap)\n",
    "\n",
    "# Diretórios de entrada\n",
    "input_dirs = [\n",
    "    \"/mnt/d/Documentos Gustavo/TCC/DMR - Database For Mastology Research - Visual Lab, UFF, Niterói, Brazil\",\n",
    "    \"/mnt/d/Documentos Gustavo/TCC/DMR - Database For Mastology Research - Visual Lab, UFF, Niterói, Brazil-002\",\n",
    "    \"/mnt/d/Documentos Gustavo/TCC/DMR - Database For Mastology Research - Visual Lab, UFF, Niterói, Brazil-003\"\n",
    "]\n",
    "\n",
    "# Diretório de saída\n",
    "output_dir = \"/mnt/d/Documentos Gustavo/TCC/processed_heatmaps/1\"\n",
    "os.makedirs(output_dir, exist_ok=True)\n",
    "\n",
    "# Contador de imagens Sick processadas\n",
    "countSick = 0\n",
    "\n",
    "# Processar apenas imagens da classe \"Sick\"\n",
    "for input_dir in input_dirs:\n",
    "    categoria_path = os.path.join(input_dir, \"Sick\")\n",
    "\n",
    "    if not os.path.exists(categoria_path):\n",
    "        continue\n",
    "\n",
    "    for paciente in os.listdir(categoria_path):\n",
    "        paciente_path = os.path.join(categoria_path, paciente, \"visit_01\", \"images\", \"thermography\", \"static\")\n",
    "\n",
    "        if os.path.exists(paciente_path):\n",
    "            imagens = []\n",
    "            for arquivo in os.listdir(paciente_path):\n",
    "                arquivo_path = os.path.join(paciente_path, arquivo)\n",
    "\n",
    "                # Se for uma imagem válida e não começar com \"L\"\n",
    "                if arquivo.lower().endswith(('.png', '.jpg', '.jpeg')) and not arquivo.lower().startswith('L'):\n",
    "                    imagens.append(arquivo_path)\n",
    "\n",
    "            for img in imagens:\n",
    "                salvar_como_mapa_calor_e_flip(img, output_dir, paciente)\n",
    "                countSick += 2  # Conta a original e a flipada\n",
    "\n",
    "print(\"Total de imagens Sick processadas (incluindo flipadas):\", countSick)"
   ]
  }
 ],
 "metadata": {
  "kernelspec": {
   "display_name": "Python (my_env)",
   "language": "python",
   "name": "my_env"
  },
  "language_info": {
   "codemirror_mode": {
    "name": "ipython",
    "version": 3
   },
   "file_extension": ".py",
   "mimetype": "text/x-python",
   "name": "python",
   "nbconvert_exporter": "python",
   "pygments_lexer": "ipython3",
   "version": "3.12.3"
  }
 },
 "nbformat": 4,
 "nbformat_minor": 2
}
